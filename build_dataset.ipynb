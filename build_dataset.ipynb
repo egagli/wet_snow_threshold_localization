{
 "cells": [
  {
   "cell_type": "markdown",
   "id": "90945ec5-bbf6-421e-bb3d-0a6dbae9160d",
   "metadata": {
    "tags": []
   },
   "source": [
    "# build dataset"
   ]
  },
  {
   "cell_type": "markdown",
   "id": "ebf39504-30ab-437c-afb5-2ea18a10cd6e",
   "metadata": {},
   "source": [
    "eric gagliano   \n",
    "jan 17 2024  \n",
    "notebook to build datasets\n",
    "  * data sources\n",
    "    * for Sentinel-1 RTC data: https://planetarycomputer.microsoft.com/dataset/sentinel-1-rtc \n",
    "    * LIA: https://github.com/egagli/generate_sentinel1_local_incidence_angle_maps\n",
    "    * LC: https://planetarycomputer.microsoft.com/dataset/esa-worldcover\n",
    "    * FCF: https://zenodo.org/records/3939050\n",
    "    * Snow classification: https://nsidc.org/data/nsidc-0768/versions/1\n",
    "    * Snow cover (snow / no snow): https://nsidc.org/data/mod10a1f/versions/61\n",
    "        * previously tried https://planetarycomputer.microsoft.com/dataset/modis-10A1-061 (or 8 day)"
   ]
  },
  {
   "cell_type": "code",
   "execution_count": 1,
   "id": "888249f0-92ce-41ef-aa6c-b0a508870bd4",
   "metadata": {
    "tags": []
   },
   "outputs": [],
   "source": [
    "!pip -q install earthaccess"
   ]
  },
  {
   "cell_type": "code",
   "execution_count": 2,
   "id": "3a63b157-1ce5-4ece-9bca-b3e2ff27a9da",
   "metadata": {},
   "outputs": [],
   "source": [
    "import geopandas as gpd\n",
    "import create_dataset"
   ]
  },
  {
   "cell_type": "code",
   "execution_count": 3,
   "id": "9053afc6-9e59-4cfc-9550-c3ddf8b9adf3",
   "metadata": {},
   "outputs": [],
   "source": [
    "shapefile_folder = 'data/shapefiles/'\n",
    "\n",
    "geojson = 'iceland_trollaskagi_peninsula.geojson'  \n",
    "#geojson = 'grandmesa.geojson'\n",
    "\n",
    "fn = f'{shapefile_folder}{geojson}'\n",
    "\n",
    "bbox_gdf = gpd.read_file(fn)\n",
    "bbox_gdf.attrs = {'filename':fn}"
   ]
  },
  {
   "cell_type": "code",
   "execution_count": 4,
   "id": "594cf784-628b-463b-a78a-f46caf8ca94d",
   "metadata": {
    "tags": []
   },
   "outputs": [],
   "source": [
    "resolution = 500"
   ]
  },
  {
   "cell_type": "code",
   "execution_count": 5,
   "id": "fa034656-0f0d-42a4-8393-d4fac53ed8cc",
   "metadata": {
    "tags": []
   },
   "outputs": [],
   "source": [
    "year = 2020"
   ]
  },
  {
   "cell_type": "code",
   "execution_count": 6,
   "id": "1981d5bf-b919-49ad-a41c-a1b21a46f271",
   "metadata": {
    "tags": []
   },
   "outputs": [],
   "source": [
    "time_reference_scenes = slice(f'{year}-01-01',f'{year}-03-31') # northern hemisphere winter winter\n",
    "time_target_scene = f'{year}-06-27' # try and support time_wet_scene_asc and time_wet_scene_desc"
   ]
  },
  {
   "cell_type": "code",
   "execution_count": 7,
   "id": "7f932318-cf0d-4176-bfa5-b703b146c670",
   "metadata": {
    "tags": []
   },
   "outputs": [],
   "source": [
    "reference_scenes_aggregation_technique = 'median' # mean / median / max"
   ]
  },
  {
   "cell_type": "code",
   "execution_count": 8,
   "id": "28a6e289-4283-4e34-ad77-b30acdc8040f",
   "metadata": {
    "tags": []
   },
   "outputs": [
    {
     "name": "stderr",
     "output_type": "stream",
     "text": [
      "/srv/conda/envs/notebook/lib/python3.11/site-packages/pystac_client/item_search.py:826: FutureWarning: get_items() is deprecated, use items() instead\n",
      "  warnings.warn(\n",
      "/srv/conda/envs/notebook/lib/python3.11/site-packages/xarray/core/indexing.py:1443: PerformanceWarning: Slicing with an out-of-order index is generating 56 times more chunks\n",
      "  return self.array[key]\n"
     ]
    },
    {
     "name": "stdout",
     "output_type": "stream",
     "text": [
      "Using already present LIA data.\n"
     ]
    },
    {
     "name": "stderr",
     "output_type": "stream",
     "text": [
      "/srv/conda/envs/notebook/lib/python3.11/site-packages/pystac_client/item_search.py:826: FutureWarning: get_items() is deprecated, use items() instead\n",
      "  warnings.warn(\n"
     ]
    },
    {
     "name": "stdout",
     "output_type": "stream",
     "text": [
      "Granules found: 1\n",
      " Getting 1 granules, approx download size: 0.0 GB\n"
     ]
    },
    {
     "data": {
      "application/vnd.jupyter.widget-view+json": {
       "model_id": "72b8f61f63de4580a2116eec99601588",
       "version_major": 2,
       "version_minor": 0
      },
      "text/plain": [
       "QUEUEING TASKS | :   0%|          | 0/1 [00:00<?, ?it/s]"
      ]
     },
     "metadata": {},
     "output_type": "display_data"
    },
    {
     "data": {
      "application/vnd.jupyter.widget-view+json": {
       "model_id": "39b86d5cb4a74ede8a49c8fae189ad15",
       "version_major": 2,
       "version_minor": 0
      },
      "text/plain": [
       "PROCESSING TASKS | :   0%|          | 0/1 [00:00<?, ?it/s]"
      ]
     },
     "metadata": {},
     "output_type": "display_data"
    },
    {
     "data": {
      "application/vnd.jupyter.widget-view+json": {
       "model_id": "c92c115d8b2c493ab10e2f491fd0210f",
       "version_major": 2,
       "version_minor": 0
      },
      "text/plain": [
       "COLLECTING RESULTS | :   0%|          | 0/1 [00:00<?, ?it/s]"
      ]
     },
     "metadata": {},
     "output_type": "display_data"
    },
    {
     "name": "stdout",
     "output_type": "stream",
     "text": [
      "Granules found: 1\n",
      " Getting 1 granules, approx download size: 0.0 GB\n"
     ]
    },
    {
     "data": {
      "application/vnd.jupyter.widget-view+json": {
       "model_id": "7082c12ec59a448090d34406f96ed651",
       "version_major": 2,
       "version_minor": 0
      },
      "text/plain": [
       "QUEUEING TASKS | :   0%|          | 0/1 [00:00<?, ?it/s]"
      ]
     },
     "metadata": {},
     "output_type": "display_data"
    },
    {
     "data": {
      "application/vnd.jupyter.widget-view+json": {
       "model_id": "a27e3a68b61d45cf89e6a5c3cfe0c025",
       "version_major": 2,
       "version_minor": 0
      },
      "text/plain": [
       "PROCESSING TASKS | :   0%|          | 0/1 [00:00<?, ?it/s]"
      ]
     },
     "metadata": {},
     "output_type": "display_data"
    },
    {
     "data": {
      "application/vnd.jupyter.widget-view+json": {
       "model_id": "61efd5355bf24428a973910b908364aa",
       "version_major": 2,
       "version_minor": 0
      },
      "text/plain": [
       "COLLECTING RESULTS | :   0%|          | 0/1 [00:00<?, ?it/s]"
      ]
     },
     "metadata": {},
     "output_type": "display_data"
    },
    {
     "name": "stdout",
     "output_type": "stream",
     "text": [
      "Granules found: 1\n",
      " Getting 1 granules, approx download size: 0.0 GB\n"
     ]
    },
    {
     "data": {
      "application/vnd.jupyter.widget-view+json": {
       "model_id": "95e600e1cdf7452fb9c78ad1ebd1b73e",
       "version_major": 2,
       "version_minor": 0
      },
      "text/plain": [
       "QUEUEING TASKS | :   0%|          | 0/1 [00:00<?, ?it/s]"
      ]
     },
     "metadata": {},
     "output_type": "display_data"
    },
    {
     "data": {
      "application/vnd.jupyter.widget-view+json": {
       "model_id": "f9489ce8eb3b421d838514c21613ce95",
       "version_major": 2,
       "version_minor": 0
      },
      "text/plain": [
       "PROCESSING TASKS | :   0%|          | 0/1 [00:00<?, ?it/s]"
      ]
     },
     "metadata": {},
     "output_type": "display_data"
    },
    {
     "data": {
      "application/vnd.jupyter.widget-view+json": {
       "model_id": "62cc127a4ee844138283ec35ff63fc8f",
       "version_major": 2,
       "version_minor": 0
      },
      "text/plain": [
       "COLLECTING RESULTS | :   0%|          | 0/1 [00:00<?, ?it/s]"
      ]
     },
     "metadata": {},
     "output_type": "display_data"
    },
    {
     "name": "stdout",
     "output_type": "stream",
     "text": [
      "Granules found: 1\n",
      " Getting 1 granules, approx download size: 0.0 GB\n"
     ]
    },
    {
     "data": {
      "application/vnd.jupyter.widget-view+json": {
       "model_id": "28391c070a2c426993474e9b84769f1e",
       "version_major": 2,
       "version_minor": 0
      },
      "text/plain": [
       "QUEUEING TASKS | :   0%|          | 0/1 [00:00<?, ?it/s]"
      ]
     },
     "metadata": {},
     "output_type": "display_data"
    },
    {
     "data": {
      "application/vnd.jupyter.widget-view+json": {
       "model_id": "ee7bec08c2984e6eb552f3c293e2e381",
       "version_major": 2,
       "version_minor": 0
      },
      "text/plain": [
       "PROCESSING TASKS | :   0%|          | 0/1 [00:00<?, ?it/s]"
      ]
     },
     "metadata": {},
     "output_type": "display_data"
    },
    {
     "data": {
      "application/vnd.jupyter.widget-view+json": {
       "model_id": "667bad6c72fc4eeda7041de70339aa47",
       "version_major": 2,
       "version_minor": 0
      },
      "text/plain": [
       "COLLECTING RESULTS | :   0%|          | 0/1 [00:00<?, ?it/s]"
      ]
     },
     "metadata": {},
     "output_type": "display_data"
    },
    {
     "name": "stdout",
     "output_type": "stream",
     "text": [
      "Granules found: 1\n",
      " Getting 1 granules, approx download size: 0.0 GB\n"
     ]
    },
    {
     "data": {
      "application/vnd.jupyter.widget-view+json": {
       "model_id": "0b8f2c30db2b4b14a7dd843e657cbcca",
       "version_major": 2,
       "version_minor": 0
      },
      "text/plain": [
       "QUEUEING TASKS | :   0%|          | 0/1 [00:00<?, ?it/s]"
      ]
     },
     "metadata": {},
     "output_type": "display_data"
    },
    {
     "data": {
      "application/vnd.jupyter.widget-view+json": {
       "model_id": "73c3ef0049ea4b26811c6dc52101823b",
       "version_major": 2,
       "version_minor": 0
      },
      "text/plain": [
       "PROCESSING TASKS | :   0%|          | 0/1 [00:00<?, ?it/s]"
      ]
     },
     "metadata": {},
     "output_type": "display_data"
    },
    {
     "data": {
      "application/vnd.jupyter.widget-view+json": {
       "model_id": "2cc2f9c8059a4609b55d5a2af6afb7a5",
       "version_major": 2,
       "version_minor": 0
      },
      "text/plain": [
       "COLLECTING RESULTS | :   0%|          | 0/1 [00:00<?, ?it/s]"
      ]
     },
     "metadata": {},
     "output_type": "display_data"
    },
    {
     "name": "stdout",
     "output_type": "stream",
     "text": [
      "Granules found: 1\n",
      " Getting 1 granules, approx download size: 0.0 GB\n"
     ]
    },
    {
     "data": {
      "application/vnd.jupyter.widget-view+json": {
       "model_id": "982df12c55734d99a78a20faefd6c418",
       "version_major": 2,
       "version_minor": 0
      },
      "text/plain": [
       "QUEUEING TASKS | :   0%|          | 0/1 [00:00<?, ?it/s]"
      ]
     },
     "metadata": {},
     "output_type": "display_data"
    },
    {
     "data": {
      "application/vnd.jupyter.widget-view+json": {
       "model_id": "d8feee914097457fb01b790db261adfc",
       "version_major": 2,
       "version_minor": 0
      },
      "text/plain": [
       "PROCESSING TASKS | :   0%|          | 0/1 [00:00<?, ?it/s]"
      ]
     },
     "metadata": {},
     "output_type": "display_data"
    },
    {
     "data": {
      "application/vnd.jupyter.widget-view+json": {
       "model_id": "7ef358201fb3494b8ef6cee1792bd83a",
       "version_major": 2,
       "version_minor": 0
      },
      "text/plain": [
       "COLLECTING RESULTS | :   0%|          | 0/1 [00:00<?, ?it/s]"
      ]
     },
     "metadata": {},
     "output_type": "display_data"
    },
    {
     "name": "stdout",
     "output_type": "stream",
     "text": [
      "Granules found: 1\n",
      " Getting 1 granules, approx download size: 0.0 GB\n"
     ]
    },
    {
     "data": {
      "application/vnd.jupyter.widget-view+json": {
       "model_id": "2eb21f7bdc924124a30937a4999d400c",
       "version_major": 2,
       "version_minor": 0
      },
      "text/plain": [
       "QUEUEING TASKS | :   0%|          | 0/1 [00:00<?, ?it/s]"
      ]
     },
     "metadata": {},
     "output_type": "display_data"
    },
    {
     "data": {
      "application/vnd.jupyter.widget-view+json": {
       "model_id": "16f24012011f486a91037b7412fa89aa",
       "version_major": 2,
       "version_minor": 0
      },
      "text/plain": [
       "PROCESSING TASKS | :   0%|          | 0/1 [00:00<?, ?it/s]"
      ]
     },
     "metadata": {},
     "output_type": "display_data"
    },
    {
     "data": {
      "application/vnd.jupyter.widget-view+json": {
       "model_id": "73b4d10412c9449c8c8c40d75afb5239",
       "version_major": 2,
       "version_minor": 0
      },
      "text/plain": [
       "COLLECTING RESULTS | :   0%|          | 0/1 [00:00<?, ?it/s]"
      ]
     },
     "metadata": {},
     "output_type": "display_data"
    },
    {
     "name": "stdout",
     "output_type": "stream",
     "text": [
      "CPU times: user 41.2 s, sys: 23.4 s, total: 1min 4s\n",
      "Wall time: 1min 34s\n"
     ]
    }
   ],
   "source": [
    "%%time\n",
    "dataset = create_dataset.create_dataset(bbox_gdf, \n",
    "                                        year, \n",
    "                                        time_reference_scenes, \n",
    "                                        time_target_scene, \n",
    "                                        reference_scenes_aggregation_technique, \n",
    "                                        resolution)"
   ]
  },
  {
   "cell_type": "code",
   "execution_count": 9,
   "id": "f32d5d7d-bcf8-44de-8fef-144abc0c7d41",
   "metadata": {
    "tags": []
   },
   "outputs": [
    {
     "name": "stderr",
     "output_type": "stream",
     "text": [
      "/srv/conda/envs/notebook/lib/python3.11/site-packages/rasterio/warp.py:344: NotGeoreferencedWarning: Dataset has no geotransform, gcps, or rpcs. The identity matrix will be returned.\n",
      "  _reproject(\n"
     ]
    },
    {
     "name": "stdout",
     "output_type": "stream",
     "text": [
      "CPU times: user 59.2 s, sys: 29.9 s, total: 1min 29s\n",
      "Wall time: 36.6 s\n"
     ]
    },
    {
     "data": {
      "text/plain": [
       "<xarray.backends.zarr.ZarrStore at 0x78c334c8e8f0>"
      ]
     },
     "execution_count": 9,
     "metadata": {},
     "output_type": "execute_result"
    }
   ],
   "source": [
    "%%time\n",
    "dataset.to_zarr(f'data/datasets/{geojson.split(\".\")[0]}_{year}_tar_{time_target_scene}_ref_{time_reference_scenes.start}_{time_reference_scenes.stop}_{reference_scenes_aggregation_technique}_{resolution}.zarr',mode='w')"
   ]
  },
  {
   "cell_type": "code",
   "execution_count": 10,
   "id": "9a047587-441b-48e2-9879-d858d01d8ea6",
   "metadata": {
    "tags": []
   },
   "outputs": [
    {
     "name": "stdout",
     "output_type": "stream",
     "text": [
      "CPU times: user 58.7 s, sys: 28.6 s, total: 1min 27s\n",
      "Wall time: 33.6 s\n"
     ]
    }
   ],
   "source": [
    "%%time\n",
    "dataframe = create_dataset.dataset_to_dataframe(dataset)"
   ]
  },
  {
   "cell_type": "code",
   "execution_count": 11,
   "id": "538059ea-7336-4d99-b108-e251e619b587",
   "metadata": {
    "tags": []
   },
   "outputs": [
    {
     "name": "stdout",
     "output_type": "stream",
     "text": [
      "CPU times: user 301 ms, sys: 49.7 ms, total: 351 ms\n",
      "Wall time: 377 ms\n"
     ]
    }
   ],
   "source": [
    "%%time\n",
    "dataframe.to_parquet(f'data/dataframes/{geojson.split(\".\")[0]}_{year}_tar_{time_target_scene}_ref_{time_reference_scenes.start}_{time_reference_scenes.stop}_{reference_scenes_aggregation_technique}_{resolution}.parquet')"
   ]
  },
  {
   "cell_type": "code",
   "execution_count": null,
   "id": "875fbbb4-80d3-40e9-83ec-c466b26394a4",
   "metadata": {},
   "outputs": [],
   "source": []
  }
 ],
 "metadata": {
  "kernelspec": {
   "display_name": "Python 3 (ipykernel)",
   "language": "python",
   "name": "python3"
  },
  "language_info": {
   "codemirror_mode": {
    "name": "ipython",
    "version": 3
   },
   "file_extension": ".py",
   "mimetype": "text/x-python",
   "name": "python",
   "nbconvert_exporter": "python",
   "pygments_lexer": "ipython3",
   "version": "3.11.4"
  }
 },
 "nbformat": 4,
 "nbformat_minor": 5
}
