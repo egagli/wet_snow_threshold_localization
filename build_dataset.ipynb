{
 "cells": [
  {
   "cell_type": "markdown",
   "id": "90945ec5-bbf6-421e-bb3d-0a6dbae9160d",
   "metadata": {
    "tags": []
   },
   "source": [
    "# build dataset"
   ]
  },
  {
   "cell_type": "markdown",
   "id": "ebf39504-30ab-437c-afb5-2ea18a10cd6e",
   "metadata": {},
   "source": [
    "eric gagliano   \n",
    "jan 17 2024  \n",
    "notebook to build datasets\n",
    "  * data sources\n",
    "    * for Sentinel-1 RTC data: https://planetarycomputer.microsoft.com/dataset/sentinel-1-rtc \n",
    "    * LIA: https://github.com/egagli/generate_sentinel1_local_incidence_angle_maps\n",
    "    * LC: https://planetarycomputer.microsoft.com/dataset/esa-worldcover\n",
    "    * FCF: https://zenodo.org/records/3939050\n",
    "    * Snow classification: https://nsidc.org/data/nsidc-0768/versions/1\n",
    "    * Snow cover (snow / no snow): https://nsidc.org/data/mod10a1f/versions/61\n",
    "        * previously tried https://planetarycomputer.microsoft.com/dataset/modis-10A1-061 (or 8 day)"
   ]
  },
  {
   "cell_type": "code",
   "execution_count": 1,
   "id": "888249f0-92ce-41ef-aa6c-b0a508870bd4",
   "metadata": {
    "tags": []
   },
   "outputs": [],
   "source": [
    "!pip -q install earthaccess"
   ]
  },
  {
   "cell_type": "code",
   "execution_count": 2,
   "id": "3a63b157-1ce5-4ece-9bca-b3e2ff27a9da",
   "metadata": {},
   "outputs": [],
   "source": [
    "import geopandas as gpd\n",
    "import create_dataset\n",
    "import numpy as np"
   ]
  },
  {
   "cell_type": "code",
   "execution_count": 3,
   "id": "9053afc6-9e59-4cfc-9550-c3ddf8b9adf3",
   "metadata": {},
   "outputs": [],
   "source": [
    "shapefile_folder = 'data/shapefiles/'\n",
    "\n",
    "geojson = 'iceland_trollaskagi_peninsula.geojson'  \n",
    "geojson = 'grandmesa.geojson'\n",
    "geojson = 'banded_peak_ranch.geojson'\n",
    "\n",
    "fn = f'{shapefile_folder}{geojson}'\n",
    "\n",
    "bbox_gdf = gpd.read_file(fn)\n",
    "bbox_gdf.attrs = {'filename':fn}"
   ]
  },
  {
   "cell_type": "code",
   "execution_count": 4,
   "id": "594cf784-628b-463b-a78a-f46caf8ca94d",
   "metadata": {
    "tags": []
   },
   "outputs": [],
   "source": [
    "resolution = 30"
   ]
  },
  {
   "cell_type": "code",
   "execution_count": 5,
   "id": "fa034656-0f0d-42a4-8393-d4fac53ed8cc",
   "metadata": {
    "tags": []
   },
   "outputs": [],
   "source": [
    "year = 2020"
   ]
  },
  {
   "cell_type": "code",
   "execution_count": 6,
   "id": "1981d5bf-b919-49ad-a41c-a1b21a46f271",
   "metadata": {
    "tags": []
   },
   "outputs": [],
   "source": [
    "time_reference_scenes = slice(f'{year}-01-01',f'{year}-03-31') # northern hemisphere winter winter\n",
    "time_reference_scenes = slice(f'{year}-06-01',f'{year}-07-31') \n",
    "\n",
    "time_target_scene = f'{year}-06-27' # try and support time_wet_scene_asc and time_wet_scene_desc\n",
    "time_target_scene = f'{year}-04-27' # try and support time_wet_scene_asc and time_wet_scene_desc"
   ]
  },
  {
   "cell_type": "code",
   "execution_count": 7,
   "id": "7f932318-cf0d-4176-bfa5-b703b146c670",
   "metadata": {
    "tags": []
   },
   "outputs": [],
   "source": [
    "reference_scenes_aggregation_technique = 'median' # mean / median / max"
   ]
  },
  {
   "cell_type": "code",
   "execution_count": 8,
   "id": "28a6e289-4283-4e34-ad77-b30acdc8040f",
   "metadata": {
    "tags": []
   },
   "outputs": [
    {
     "name": "stderr",
     "output_type": "stream",
     "text": [
      "/srv/conda/envs/notebook/lib/python3.11/site-packages/pystac_client/item_search.py:826: FutureWarning: get_items() is deprecated, use items() instead\n",
      "  warnings.warn(\n",
      "/srv/conda/envs/notebook/lib/python3.11/site-packages/xarray/core/indexing.py:1443: PerformanceWarning: Slicing with an out-of-order index is generating 29 times more chunks\n",
      "  return self.array[key]\n",
      "/srv/conda/envs/notebook/lib/python3.11/site-packages/pystac_client/item_search.py:826: FutureWarning: get_items() is deprecated, use items() instead\n",
      "  warnings.warn(\n"
     ]
    },
    {
     "name": "stdout",
     "output_type": "stream",
     "text": [
      "Creating new LIA data.\n"
     ]
    },
    {
     "name": "stderr",
     "output_type": "stream",
     "text": [
      "/srv/conda/envs/notebook/lib/python3.11/site-packages/stackstac/prepare.py:363: UserWarning: The argument 'infer_datetime_format' is deprecated and will be removed in a future version. A strict version of it is now the default, see https://pandas.pydata.org/pdeps/0004-consistent-to-datetime-parsing.html. You can safely remove this argument.\n",
      "  times = pd.to_datetime(\n"
     ]
    },
    {
     "name": "stdout",
     "output_type": "stream",
     "text": [
      "Creating output file that is 1663P x 2260L.\n",
      "Processing /tmp/dems/dem.tif [1/1] : 0...10...20...30...40...50...60...70...80...90...100 - done.\n",
      "Returned 664 Items\n"
     ]
    },
    {
     "name": "stderr",
     "output_type": "stream",
     "text": [
      "/srv/conda/envs/notebook/lib/python3.11/site-packages/stackstac/prepare.py:363: UserWarning: The argument 'infer_datetime_format' is deprecated and will be removed in a future version. A strict version of it is now the default, see https://pandas.pydata.org/pdeps/0004-consistent-to-datetime-parsing.html. You can safely remove this argument.\n",
      "  times = pd.to_datetime(\n"
     ]
    },
    {
     "name": "stdout",
     "output_type": "stream",
     "text": [
      "For relative orbit 49, we will use GRD/2016/1/20/IW/SV/S1A_IW_GRDH_1SSV_20160120T010920_20160120T010945_009571_00DEB9_E2CE as the product folder.\n",
      "For relative orbit 56, we will use GRD/2016/1/8/IW/SV/S1A_IW_GRDH_1SSV_20160108T130954_20160108T131019_009403_00D9E1_8E88 as the product folder.\n",
      "For relative orbit 151, we will use GRD/2016/1/3/IW/SV/S1A_IW_GRDH_1SSV_20160103T010105_20160103T010130_009323_00D797_06E4 as the product folder.\n"
     ]
    },
    {
     "name": "stderr",
     "output_type": "stream",
     "text": [
      "/srv/conda/envs/notebook/lib/python3.11/site-packages/sarsen/apps.py:78: UserWarning: Converting non-nanosecond precision datetime values to nanosecond precision. This behavior can eventually be relaxed in xarray, as it is an artifact from pandas which is now beginning to support non-nanosecond precision values. This warning is caused by passing non-nanosecond np.datetime64 or np.timedelta64 values to the DataArray or Variable constructor; it can be silenced by converting the values to nanosecond precision ahead of time.\n",
      "  ds = xr.open_dataset(product_urlpath, group=group, chunks=chunks, **kwargs)\n",
      "/home/jovyan/wet_snow_threshold_localization/../generate_sentinel1_local_incidence_angle_maps/generate_lia.py:107: UserWarning: Converting non-nanosecond precision datetime values to nanosecond precision. This behavior can eventually be relaxed in xarray, as it is an artifact from pandas which is now beginning to support non-nanosecond precision values. This warning is caused by passing non-nanosecond np.datetime64 or np.timedelta64 values to the DataArray or Variable constructor; it can be silenced by converting the values to nanosecond precision ahead of time.\n",
      "  orbit_ecef = xr.open_dataset(product_folder, group=f\"{measurement_group}/orbit\", **kwargs)\n",
      "rasterio.warp.transform failed, retrying...\n",
      "/srv/conda/envs/notebook/lib/python3.11/site-packages/numpy/core/fromnumeric.py:86: RuntimeWarning: invalid value encountered in reduce\n",
      "  return ufunc.reduce(obj, axis, dtype, out, **passkwargs)\n",
      "/srv/conda/envs/notebook/lib/python3.11/site-packages/scipy/interpolate/_interpolate.py:698: RuntimeWarning: invalid value encountered in subtract\n",
      "  slope = (y_hi - y_lo) / (x_hi - x_lo)[:, None]\n",
      "/srv/conda/envs/notebook/lib/python3.11/site-packages/scipy/interpolate/_interpolate.py:701: RuntimeWarning: invalid value encountered in add\n",
      "  y_new = slope*(x_new - x_lo)[:, None] + y_lo\n",
      "/srv/conda/envs/notebook/lib/python3.11/site-packages/numpy/core/numeric.py:1673: RuntimeWarning: invalid value encountered in subtract\n",
      "  cp2 -= tmp\n",
      "/srv/conda/envs/notebook/lib/python3.11/site-packages/scipy/interpolate/_interpolate.py:698: RuntimeWarning: invalid value encountered in subtract\n",
      "  slope = (y_hi - y_lo) / (x_hi - x_lo)[:, None]\n",
      "/srv/conda/envs/notebook/lib/python3.11/site-packages/scipy/interpolate/_interpolate.py:701: RuntimeWarning: invalid value encountered in add\n",
      "  y_new = slope*(x_new - x_lo)[:, None] + y_lo\n",
      "/srv/conda/envs/notebook/lib/python3.11/site-packages/numpy/core/numeric.py:1673: RuntimeWarning: invalid value encountered in subtract\n",
      "  cp2 -= tmp\n",
      "/srv/conda/envs/notebook/lib/python3.11/site-packages/numpy/core/fromnumeric.py:86: RuntimeWarning: invalid value encountered in reduce\n",
      "  return ufunc.reduce(obj, axis, dtype, out, **passkwargs)\n"
     ]
    },
    {
     "name": "stdout",
     "output_type": "stream",
     "text": [
      "LIA map for GRD/2016/1/20/IW/SV/S1A_IW_GRDH_1SSV_20160120T010920_20160120T010945_009571_00DEB9_E2CE is complete and saved at /tmp/lia_maps/49.tif.\n"
     ]
    },
    {
     "name": "stderr",
     "output_type": "stream",
     "text": [
      "/srv/conda/envs/notebook/lib/python3.11/site-packages/sarsen/apps.py:78: UserWarning: Converting non-nanosecond precision datetime values to nanosecond precision. This behavior can eventually be relaxed in xarray, as it is an artifact from pandas which is now beginning to support non-nanosecond precision values. This warning is caused by passing non-nanosecond np.datetime64 or np.timedelta64 values to the DataArray or Variable constructor; it can be silenced by converting the values to nanosecond precision ahead of time.\n",
      "  ds = xr.open_dataset(product_urlpath, group=group, chunks=chunks, **kwargs)\n",
      "/home/jovyan/wet_snow_threshold_localization/../generate_sentinel1_local_incidence_angle_maps/generate_lia.py:107: UserWarning: Converting non-nanosecond precision datetime values to nanosecond precision. This behavior can eventually be relaxed in xarray, as it is an artifact from pandas which is now beginning to support non-nanosecond precision values. This warning is caused by passing non-nanosecond np.datetime64 or np.timedelta64 values to the DataArray or Variable constructor; it can be silenced by converting the values to nanosecond precision ahead of time.\n",
      "  orbit_ecef = xr.open_dataset(product_folder, group=f\"{measurement_group}/orbit\", **kwargs)\n",
      "/srv/conda/envs/notebook/lib/python3.11/site-packages/scipy/interpolate/_interpolate.py:698: RuntimeWarning: invalid value encountered in subtract\n",
      "  slope = (y_hi - y_lo) / (x_hi - x_lo)[:, None]\n",
      "/srv/conda/envs/notebook/lib/python3.11/site-packages/scipy/interpolate/_interpolate.py:701: RuntimeWarning: invalid value encountered in add\n",
      "  y_new = slope*(x_new - x_lo)[:, None] + y_lo\n",
      "/srv/conda/envs/notebook/lib/python3.11/site-packages/numpy/core/numeric.py:1673: RuntimeWarning: invalid value encountered in subtract\n",
      "  cp2 -= tmp\n",
      "/srv/conda/envs/notebook/lib/python3.11/site-packages/scipy/interpolate/_interpolate.py:698: RuntimeWarning: invalid value encountered in subtract\n",
      "  slope = (y_hi - y_lo) / (x_hi - x_lo)[:, None]\n",
      "/srv/conda/envs/notebook/lib/python3.11/site-packages/scipy/interpolate/_interpolate.py:701: RuntimeWarning: invalid value encountered in add\n",
      "  y_new = slope*(x_new - x_lo)[:, None] + y_lo\n",
      "/srv/conda/envs/notebook/lib/python3.11/site-packages/numpy/core/numeric.py:1673: RuntimeWarning: invalid value encountered in subtract\n",
      "  cp2 -= tmp\n"
     ]
    },
    {
     "name": "stdout",
     "output_type": "stream",
     "text": [
      "LIA map for GRD/2016/1/8/IW/SV/S1A_IW_GRDH_1SSV_20160108T130954_20160108T131019_009403_00D9E1_8E88 is complete and saved at /tmp/lia_maps/56.tif.\n"
     ]
    },
    {
     "name": "stderr",
     "output_type": "stream",
     "text": [
      "/srv/conda/envs/notebook/lib/python3.11/site-packages/sarsen/apps.py:78: UserWarning: Converting non-nanosecond precision datetime values to nanosecond precision. This behavior can eventually be relaxed in xarray, as it is an artifact from pandas which is now beginning to support non-nanosecond precision values. This warning is caused by passing non-nanosecond np.datetime64 or np.timedelta64 values to the DataArray or Variable constructor; it can be silenced by converting the values to nanosecond precision ahead of time.\n",
      "  ds = xr.open_dataset(product_urlpath, group=group, chunks=chunks, **kwargs)\n",
      "/home/jovyan/wet_snow_threshold_localization/../generate_sentinel1_local_incidence_angle_maps/generate_lia.py:107: UserWarning: Converting non-nanosecond precision datetime values to nanosecond precision. This behavior can eventually be relaxed in xarray, as it is an artifact from pandas which is now beginning to support non-nanosecond precision values. This warning is caused by passing non-nanosecond np.datetime64 or np.timedelta64 values to the DataArray or Variable constructor; it can be silenced by converting the values to nanosecond precision ahead of time.\n",
      "  orbit_ecef = xr.open_dataset(product_folder, group=f\"{measurement_group}/orbit\", **kwargs)\n",
      "/srv/conda/envs/notebook/lib/python3.11/site-packages/numpy/core/fromnumeric.py:86: RuntimeWarning: invalid value encountered in reduce\n",
      "  return ufunc.reduce(obj, axis, dtype, out, **passkwargs)\n",
      "/srv/conda/envs/notebook/lib/python3.11/site-packages/scipy/interpolate/_interpolate.py:698: RuntimeWarning: invalid value encountered in subtract\n",
      "  slope = (y_hi - y_lo) / (x_hi - x_lo)[:, None]\n",
      "/srv/conda/envs/notebook/lib/python3.11/site-packages/scipy/interpolate/_interpolate.py:701: RuntimeWarning: invalid value encountered in add\n",
      "  y_new = slope*(x_new - x_lo)[:, None] + y_lo\n",
      "/srv/conda/envs/notebook/lib/python3.11/site-packages/numpy/core/numeric.py:1673: RuntimeWarning: invalid value encountered in subtract\n",
      "  cp2 -= tmp\n",
      "/srv/conda/envs/notebook/lib/python3.11/site-packages/scipy/interpolate/_interpolate.py:698: RuntimeWarning: invalid value encountered in subtract\n",
      "  slope = (y_hi - y_lo) / (x_hi - x_lo)[:, None]\n",
      "/srv/conda/envs/notebook/lib/python3.11/site-packages/scipy/interpolate/_interpolate.py:701: RuntimeWarning: invalid value encountered in add\n",
      "  y_new = slope*(x_new - x_lo)[:, None] + y_lo\n",
      "/srv/conda/envs/notebook/lib/python3.11/site-packages/numpy/core/numeric.py:1673: RuntimeWarning: invalid value encountered in subtract\n",
      "  cp2 -= tmp\n",
      "/srv/conda/envs/notebook/lib/python3.11/site-packages/numpy/core/fromnumeric.py:86: RuntimeWarning: invalid value encountered in reduce\n",
      "  return ufunc.reduce(obj, axis, dtype, out, **passkwargs)\n"
     ]
    },
    {
     "name": "stdout",
     "output_type": "stream",
     "text": [
      "LIA map for GRD/2016/1/3/IW/SV/S1A_IW_GRDH_1SSV_20160103T010105_20160103T010130_009323_00D797_06E4 is complete and saved at /tmp/lia_maps/151.tif.\n",
      "Raster stack is complete and saved at /tmp/lia_maps/lia_stack_orbits_49_56_151.nc\n",
      "Complete! Check /tmp/lia_maps for LIA rasters and netcdf. For reference, 10m UTM projected DEM saved in /tmp/dems.\n"
     ]
    },
    {
     "name": "stderr",
     "output_type": "stream",
     "text": [
      "/srv/conda/envs/notebook/lib/python3.11/site-packages/pystac_client/item_search.py:826: FutureWarning: get_items() is deprecated, use items() instead\n",
      "  warnings.warn(\n"
     ]
    },
    {
     "name": "stdout",
     "output_type": "stream",
     "text": [
      "Granules found: 1\n",
      " Getting 1 granules, approx download size: 0.0 GB\n"
     ]
    },
    {
     "data": {
      "application/vnd.jupyter.widget-view+json": {
       "model_id": "ef9ee72c2b2e4fd3b9a12249e51329ad",
       "version_major": 2,
       "version_minor": 0
      },
      "text/plain": [
       "QUEUEING TASKS | :   0%|          | 0/1 [00:00<?, ?it/s]"
      ]
     },
     "metadata": {},
     "output_type": "display_data"
    },
    {
     "data": {
      "application/vnd.jupyter.widget-view+json": {
       "model_id": "0ad1059025014bf3a2f03b70d63a9187",
       "version_major": 2,
       "version_minor": 0
      },
      "text/plain": [
       "PROCESSING TASKS | :   0%|          | 0/1 [00:00<?, ?it/s]"
      ]
     },
     "metadata": {},
     "output_type": "display_data"
    },
    {
     "data": {
      "application/vnd.jupyter.widget-view+json": {
       "model_id": "45869e1a05494afb856994678c1ae454",
       "version_major": 2,
       "version_minor": 0
      },
      "text/plain": [
       "COLLECTING RESULTS | :   0%|          | 0/1 [00:00<?, ?it/s]"
      ]
     },
     "metadata": {},
     "output_type": "display_data"
    },
    {
     "name": "stdout",
     "output_type": "stream",
     "text": [
      "Granules found: 1\n",
      " Getting 1 granules, approx download size: 0.0 GB\n"
     ]
    },
    {
     "data": {
      "application/vnd.jupyter.widget-view+json": {
       "model_id": "49d290bcab904fbc8fe6c6a6b6630b73",
       "version_major": 2,
       "version_minor": 0
      },
      "text/plain": [
       "QUEUEING TASKS | :   0%|          | 0/1 [00:00<?, ?it/s]"
      ]
     },
     "metadata": {},
     "output_type": "display_data"
    },
    {
     "data": {
      "application/vnd.jupyter.widget-view+json": {
       "model_id": "39cbcf4ef85241e4ae2b44bbe692c36d",
       "version_major": 2,
       "version_minor": 0
      },
      "text/plain": [
       "PROCESSING TASKS | :   0%|          | 0/1 [00:00<?, ?it/s]"
      ]
     },
     "metadata": {},
     "output_type": "display_data"
    },
    {
     "data": {
      "application/vnd.jupyter.widget-view+json": {
       "model_id": "58b3bad62d974313b6c45e72a4fc7bac",
       "version_major": 2,
       "version_minor": 0
      },
      "text/plain": [
       "COLLECTING RESULTS | :   0%|          | 0/1 [00:00<?, ?it/s]"
      ]
     },
     "metadata": {},
     "output_type": "display_data"
    },
    {
     "name": "stdout",
     "output_type": "stream",
     "text": [
      "Granules found: 1\n",
      " Getting 1 granules, approx download size: 0.0 GB\n"
     ]
    },
    {
     "data": {
      "application/vnd.jupyter.widget-view+json": {
       "model_id": "e5eba06ccc4c42868af39a5b512eab2e",
       "version_major": 2,
       "version_minor": 0
      },
      "text/plain": [
       "QUEUEING TASKS | :   0%|          | 0/1 [00:00<?, ?it/s]"
      ]
     },
     "metadata": {},
     "output_type": "display_data"
    },
    {
     "data": {
      "application/vnd.jupyter.widget-view+json": {
       "model_id": "fbf3925e1e844d7ab6bd4174f6c20235",
       "version_major": 2,
       "version_minor": 0
      },
      "text/plain": [
       "PROCESSING TASKS | :   0%|          | 0/1 [00:00<?, ?it/s]"
      ]
     },
     "metadata": {},
     "output_type": "display_data"
    },
    {
     "data": {
      "application/vnd.jupyter.widget-view+json": {
       "model_id": "cee124f0bb54450ca3cc29fa6ceb15eb",
       "version_major": 2,
       "version_minor": 0
      },
      "text/plain": [
       "COLLECTING RESULTS | :   0%|          | 0/1 [00:00<?, ?it/s]"
      ]
     },
     "metadata": {},
     "output_type": "display_data"
    },
    {
     "name": "stdout",
     "output_type": "stream",
     "text": [
      "CPU times: user 58.8 s, sys: 13.5 s, total: 1min 12s\n",
      "Wall time: 2min 10s\n"
     ]
    }
   ],
   "source": [
    "%%time\n",
    "dataset = create_dataset.create_dataset(bbox_gdf, \n",
    "                                        year, \n",
    "                                        time_reference_scenes, \n",
    "                                        time_target_scene, \n",
    "                                        reference_scenes_aggregation_technique, \n",
    "                                        resolution)"
   ]
  },
  {
   "cell_type": "code",
   "execution_count": null,
   "id": "f32d5d7d-bcf8-44de-8fef-144abc0c7d41",
   "metadata": {
    "tags": []
   },
   "outputs": [
    {
     "name": "stderr",
     "output_type": "stream",
     "text": [
      "/srv/conda/envs/notebook/lib/python3.11/site-packages/rasterio/warp.py:344: NotGeoreferencedWarning: Dataset has no geotransform, gcps, or rpcs. The identity matrix will be returned.\n",
      "  _reproject(\n"
     ]
    }
   ],
   "source": [
    "%%time\n",
    "dataset.to_zarr(f'data/datasets/{geojson.split(\".\")[0]}_{year}_tar_{time_target_scene}_ref_{time_reference_scenes.start}_{time_reference_scenes.stop}_{reference_scenes_aggregation_technique}_{resolution}.zarr',mode='w')"
   ]
  },
  {
   "cell_type": "code",
   "execution_count": 10,
   "id": "9a047587-441b-48e2-9879-d858d01d8ea6",
   "metadata": {
    "tags": []
   },
   "outputs": [
    {
     "name": "stdout",
     "output_type": "stream",
     "text": [
      "CPU times: user 5min 54s, sys: 2min 4s, total: 7min 58s\n",
      "Wall time: 2min 27s\n"
     ]
    }
   ],
   "source": [
    "%%time\n",
    "dataframe = create_dataset.dataset_to_dataframe(dataset)"
   ]
  },
  {
   "cell_type": "code",
   "execution_count": 11,
   "id": "538059ea-7336-4d99-b108-e251e619b587",
   "metadata": {
    "tags": []
   },
   "outputs": [
    {
     "name": "stdout",
     "output_type": "stream",
     "text": [
      "CPU times: user 3.55 s, sys: 313 ms, total: 3.86 s\n",
      "Wall time: 3.48 s\n"
     ]
    }
   ],
   "source": [
    "%%time\n",
    "dataframe.to_parquet(f'data/dataframes/{geojson.split(\".\")[0]}_{year}_tar_{time_target_scene}_ref_{time_reference_scenes.start}_{time_reference_scenes.stop}_{reference_scenes_aggregation_technique}_{resolution}.parquet')"
   ]
  },
  {
   "cell_type": "code",
   "execution_count": null,
   "id": "875fbbb4-80d3-40e9-83ec-c466b26394a4",
   "metadata": {},
   "outputs": [],
   "source": []
  },
  {
   "cell_type": "code",
   "execution_count": null,
   "id": "c959e050-8bb5-4d9b-9c29-bae1485e1dea",
   "metadata": {},
   "outputs": [],
   "source": []
  },
  {
   "cell_type": "code",
   "execution_count": null,
   "id": "0db2e864-7075-421b-8bf9-9a97b171418d",
   "metadata": {
    "tags": []
   },
   "outputs": [],
   "source": []
  },
  {
   "cell_type": "code",
   "execution_count": null,
   "id": "c7078d73-f6a6-48a3-aed4-d4d7d392cd37",
   "metadata": {
    "tags": []
   },
   "outputs": [],
   "source": []
  },
  {
   "cell_type": "code",
   "execution_count": 1,
   "id": "8222a103-9d82-4f9b-8f92-6f119d9f6060",
   "metadata": {
    "tags": []
   },
   "outputs": [],
   "source": [
    "# resolution = 100\n",
    "# years = np.arange(2015,2024,1)\n",
    "# reference_scenes_aggregation_technique = 'median' # mean / median / max\n",
    "\n",
    "# for year in years:\n",
    "#     print(f'Working on {year}...')\n",
    "#     time_reference_scenes = slice(f'{year}-06-01',f'{year}-07-31') \n",
    "#     time_target_scene = f'{year}-04-27' # try and support time_wet_scene_asc and time_wet_scene_desc\n",
    "    \n",
    "    \n",
    "#     dataset = create_dataset.create_dataset(bbox_gdf, \n",
    "#                                         year, \n",
    "#                                         time_reference_scenes, \n",
    "#                                         time_target_scene, \n",
    "#                                         reference_scenes_aggregation_technique, \n",
    "#                                         resolution)\n",
    "    \n",
    "    \n",
    "#     dataset.to_zarr(f'data/datasets/{geojson.split(\".\")[0]}_{year}_tar_{time_target_scene}_ref_{time_reference_scenes.start}_{time_reference_scenes.stop}_{reference_scenes_aggregation_technique}_{resolution}.zarr',mode='w')\n",
    "#     dataframe = create_dataset.dataset_to_dataframe(dataset)\n",
    "#     dataframe.to_parquet(f'data/dataframes/{geojson.split(\".\")[0]}_{year}_tar_{time_target_scene}_ref_{time_reference_scenes.start}_{time_reference_scenes.stop}_{reference_scenes_aggregation_technique}_{resolution}.parquet')\n"
   ]
  },
  {
   "cell_type": "code",
   "execution_count": null,
   "id": "ebe9297c-c5c9-4ff4-8726-0e6ad9e62968",
   "metadata": {},
   "outputs": [],
   "source": []
  }
 ],
 "metadata": {
  "kernelspec": {
   "display_name": "Python 3 (ipykernel)",
   "language": "python",
   "name": "python3"
  },
  "language_info": {
   "codemirror_mode": {
    "name": "ipython",
    "version": 3
   },
   "file_extension": ".py",
   "mimetype": "text/x-python",
   "name": "python",
   "nbconvert_exporter": "python",
   "pygments_lexer": "ipython3",
   "version": "3.11.4"
  }
 },
 "nbformat": 4,
 "nbformat_minor": 5
}
